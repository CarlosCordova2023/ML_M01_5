{
  "nbformat": 4,
  "nbformat_minor": 0,
  "metadata": {
    "colab": {
      "provenance": [],
      "authorship_tag": "ABX9TyMXmclZwXfDpV61ec83Biel",
      "include_colab_link": true
    },
    "kernelspec": {
      "name": "python3",
      "display_name": "Python 3"
    },
    "language_info": {
      "name": "python"
    }
  },
  "cells": [
    {
      "cell_type": "markdown",
      "metadata": {
        "id": "view-in-github",
        "colab_type": "text"
      },
      "source": [
        "<a href=\"https://colab.research.google.com/github/CarlosCordova2023/ML_M01_5/blob/main/ML_M01_5.ipynb\" target=\"_parent\"><img src=\"https://colab.research.google.com/assets/colab-badge.svg\" alt=\"Open In Colab\"/></a>"
      ]
    },
    {
      "cell_type": "code",
      "execution_count": 1,
      "metadata": {
        "colab": {
          "base_uri": "https://localhost:8080/"
        },
        "id": "J1ijgICOXDsb",
        "outputId": "bc51f3e7-88d3-4db7-f069-ff95bdb30288"
      },
      "outputs": [
        {
          "output_type": "stream",
          "name": "stdout",
          "text": [
            "stack: ['A'] | peek: B | pop: B\n"
          ]
        }
      ],
      "source": [
        "# === PILA (LIFO) CON LISTA ===\n",
        "stack = []                           # Creamos una lista vacía que usaremos como pila\n",
        "stack.append(\"A\")                    # push: apilamos 'A' al tope (final de la lista)\n",
        "stack.append(\"B\")                    # push: apilamos 'B' (operación O(1) amortizado)\n",
        "tope = stack[-1]                     # peek: leemos el elemento del tope sin remover\n",
        "salio = stack.pop()                  # pop: removemos y devolvemos el tope ('B') O(1)\n",
        "print(\"stack:\", stack, \"| peek:\", tope, \"| pop:\", salio)  # Estado y resultados\n"
      ]
    },
    {
      "cell_type": "code",
      "source": [],
      "metadata": {
        "id": "Q07MsAciY7hQ"
      },
      "execution_count": null,
      "outputs": []
    },
    {
      "cell_type": "code",
      "source": [
        "# === COLA (FIFO) CON DEQUE ===\n",
        "from collections import deque        # deque es eficiente para operaciones en los extremos\n",
        "q = deque()                          # Cola vacía\n",
        "q.append(\"A\")                        # enqueue: encolar 'A' (al final)\n",
        "q.append(\"B\")                        # enqueue: encolar 'B'\n",
        "primero = q[0]                       # peek: mirar el primero sin sacarlo\n",
        "salio = q.popleft()                  # dequeue: sacar 'A' (frente) O(1)\n",
        "print(\"cola:\", list(q), \"| peek:\", primero, \"| dequeue:\", salio)\n"
      ],
      "metadata": {
        "id": "vtCV-Q2_Y4ba"
      },
      "execution_count": null,
      "outputs": []
    },
    {
      "cell_type": "code",
      "source": [
        "# === HEAP MÍNIMO (PRIORIDAD) ===\n",
        "import heapq                         # Módulo estándar para min-heap\n",
        "heap = []                            # Lista que actuará como heap\n",
        "heapq.heappush(heap, (3, \"backup\"))  # Insertar (prioridad=3, tarea=\"backup\")\n",
        "heapq.heappush(heap, (1, \"deploy\"))  # Menor número = más prioritario\n",
        "heapq.heappush(heap, (2, \"tests\"))   # Insertar otro elemento\n",
        "prio, tarea = heapq.heappop(heap)    # Extraer el mínimo (prioridad 1)\n",
        "print(\"sale primero:\", (prio, tarea)) # ('deploy')\n",
        "print(\"heap restante:\", heap)         # Vista interna (no orden total)\n"
      ],
      "metadata": {
        "colab": {
          "base_uri": "https://localhost:8080/"
        },
        "id": "fe2gPMrTY8eo",
        "outputId": "a6b2f36b-7e88-45f7-eb07-6c5cd27fbc03"
      },
      "execution_count": 2,
      "outputs": [
        {
          "output_type": "stream",
          "name": "stdout",
          "text": [
            "sale primero: (1, 'deploy')\n",
            "heap restante: [(2, 'tests'), (3, 'backup')]\n"
          ]
        }
      ]
    },
    {
      "cell_type": "code",
      "source": [
        "# === UNION–FIND (DSU) ===\n",
        "class DSU:\n",
        "    def __init__(self, n):\n",
        "        self.parent = list(range(n))   # Cada nodo inicia como su propia raíz\n",
        "        self.rank = [0]*n              # Rank ~ altura para unir eficientemente\n",
        "\n",
        "    def find(self, x):\n",
        "        if self.parent[x] != x:                       # Si x no es raíz…\n",
        "            self.parent[x] = self.find(self.parent[x])# …comprimir camino (apuntar a raíz)\n",
        "        return self.parent[x]                         # Retornar raíz\n",
        "\n",
        "    def union(self, a, b):\n",
        "        ra, rb = self.find(a), self.find(b)          # Raíces de a y b\n",
        "        if ra == rb: return False                    # Ya unidos → no hacer nada\n",
        "        if self.rank[ra] < self.rank[rb]:            # Unir por rango (menor debajo de mayor)\n",
        "            self.parent[ra] = rb\n",
        "        elif self.rank[ra] > self.rank[rb]:\n",
        "            self.parent[rb] = ra\n",
        "        else:\n",
        "            self.parent[rb] = ra; self.rank[ra] += 1 # Si empatan, cualquiera sube rango\n",
        "        return True\n",
        "\n",
        "# Ejemplo de uso:\n",
        "dsu = DSU(5)\n",
        "dsu.union(0,1); dsu.union(3,4)\n",
        "print(dsu.find(0) == dsu.find(1))     # True  (conectados)\n",
        "print(dsu.find(1) == dsu.find(2))     # False (no conectados)\n"
      ],
      "metadata": {
        "colab": {
          "base_uri": "https://localhost:8080/"
        },
        "id": "s5ukVzv1Y-tq",
        "outputId": "b591ba13-229b-4f65-fc40-f0cc50eb8e77"
      },
      "execution_count": 3,
      "outputs": [
        {
          "output_type": "stream",
          "name": "stdout",
          "text": [
            "True\n",
            "False\n"
          ]
        }
      ]
    },
    {
      "cell_type": "code",
      "source": [
        "# === TRIE (PREFIJOS) ===\n",
        "class TrieNode:\n",
        "    def __init__(self):\n",
        "        self.hijos = {}                # char -> TrieNode\n",
        "        self.es_fin = False            # Marca fin de palabra\n",
        "\n",
        "class Trie:\n",
        "    def __init__(self):\n",
        "        self.raiz = TrieNode()         # Nodo raíz vacío\n",
        "\n",
        "    def insertar(self, palabra):\n",
        "        nodo = self.raiz               # Empezamos en raíz\n",
        "        for ch in palabra:             # Avanzamos carácter por carácter\n",
        "            if ch not in nodo.hijos:   # Si falta el hijo…\n",
        "                nodo.hijos[ch] = TrieNode()  # …lo creamos\n",
        "            nodo = nodo.hijos[ch]      # Descendemos\n",
        "        nodo.es_fin = True             # Marcamos fin de palabra\n",
        "\n",
        "    def _colectar(self, nodo, prefijo, out):\n",
        "        if nodo.es_fin:                # Si aquí termina una palabra…\n",
        "            out.append(prefijo)        # …la agregamos al resultado\n",
        "        for ch, nxt in nodo.hijos.items():     # Exploramos hijos en profundidad\n",
        "            self._colectar(nxt, prefijo + ch, out)\n",
        "\n",
        "    def sugerencias(self, prefijo):\n",
        "        nodo = self.raiz               # Volvemos a raíz\n",
        "        for ch in prefijo:             # Descendemos siguiendo el prefijo\n",
        "            if ch not in nodo.hijos:   # Si el prefijo no existe…\n",
        "                return []              # …no hay sugerencias\n",
        "            nodo = nodo.hijos[ch]\n",
        "        res = []                       # Acumulador de resultados\n",
        "        self._colectar(nodo, prefijo, res)  # Recolectamos palabras bajo el prefijo\n",
        "        return res\n",
        "\n",
        "# Ejemplo:\n",
        "trie = Trie()\n",
        "for w in [\"data\", \"dataset\", \"date\", \"dog\"]:\n",
        "    trie.insertar(w)\n",
        "print(trie.sugerencias(\"dat\"))         # ['data', 'dataset', 'date']\n"
      ],
      "metadata": {
        "colab": {
          "base_uri": "https://localhost:8080/"
        },
        "id": "k4s2Xr4SZAwi",
        "outputId": "5e0abb28-1527-4f3c-b356-198ba6d9be1b"
      },
      "execution_count": 4,
      "outputs": [
        {
          "output_type": "stream",
          "name": "stdout",
          "text": [
            "['data', 'dataset', 'date']\n"
          ]
        }
      ]
    },
    {
      "cell_type": "code",
      "source": [
        "# === BST: insertar/buscar O(h); h=altura (log n balanceado, n peor caso) ===\n",
        "class Nodo:\n",
        "    def __init__(self, val):\n",
        "        self.val = val                 # Valor guardado en el nodo\n",
        "        self.izq = None                # Hijo izquierdo\n",
        "        self.der = None                # Hijo derecho\n",
        "\n",
        "class BST:\n",
        "    def __init__(self):\n",
        "        self.raiz = None               # Árbol vacío\n",
        "\n",
        "    def insertar(self, val):\n",
        "        if not self.raiz:              # Si no hay raíz, creamos una\n",
        "            self.raiz = Nodo(val); return\n",
        "        cur = self.raiz                # Partimos en la raíz\n",
        "        while True:                    # Buscamos posición de inserción\n",
        "            if val < cur.val:          # Ir a izquierda\n",
        "                if not cur.izq: cur.izq = Nodo(val); return\n",
        "                cur = cur.izq\n",
        "            else:                      # Ir a derecha (duplicados a derecha)\n",
        "                if not cur.der: cur.der = Nodo(val); return\n",
        "                cur = cur.der\n",
        "\n",
        "    def buscar(self, val):\n",
        "        cur = self.raiz                # Desde la raíz\n",
        "        while cur:                     # Mientras haya nodos\n",
        "            if val == cur.val: return True\n",
        "            cur = cur.izq if val < cur.val else cur.der\n",
        "        return False\n",
        "\n",
        "    def inorder(self):\n",
        "        out = []                       # Lista donde acumulamos\n",
        "        def dfs(n):                    # Recorrido en-orden (izq, nodo, der)\n",
        "            if not n: return\n",
        "            dfs(n.izq); out.append(n.val); dfs(n.der)\n",
        "        dfs(self.raiz); return out\n",
        "\n",
        "# Ejemplo:\n",
        "bst = BST()\n",
        "for v in [7, 3, 9, 1, 5, 8, 10]:\n",
        "    bst.insertar(v)\n",
        "print(bst.inorder())                   # [1, 3, 5, 7, 8, 9, 10]\n",
        "print(bst.buscar(5), bst.buscar(42))   # True, False\n"
      ],
      "metadata": {
        "colab": {
          "base_uri": "https://localhost:8080/"
        },
        "id": "WDVvyblaZC05",
        "outputId": "c4b6570b-9050-4413-d2ab-1c4f0491abb2"
      },
      "execution_count": 5,
      "outputs": [
        {
          "output_type": "stream",
          "name": "stdout",
          "text": [
            "[1, 3, 5, 7, 8, 9, 10]\n",
            "True False\n"
          ]
        }
      ]
    },
    {
      "cell_type": "code",
      "source": [
        "# === BFS: distancias mínimas en número de aristas (no ponderado) O(V+E) ===\n",
        "from collections import deque\n",
        "\n",
        "G = {                                  # Grafo no dirigido como adyacencias\n",
        "    \"A\": {\"B\", \"C\"},\n",
        "    \"B\": {\"A\", \"D\"},\n",
        "    \"C\": {\"A\", \"D\"},\n",
        "    \"D\": {\"B\", \"C\", \"E\"},\n",
        "    \"E\": {\"D\"},\n",
        "}\n",
        "\n",
        "def bfs_distancias(g, origen):\n",
        "    dist = {origen: 0}                 # Distancia 0 al origen\n",
        "    q = deque([origen])                # Cola inicial con el origen\n",
        "    while q:                           # Mientras queden por visitar\n",
        "        v = q.popleft()                # Sacamos el más antiguo (FIFO)\n",
        "        for w in g.get(v, ()):         # Recorremos vecinos\n",
        "            if w not in dist:          # Si no fue visitado\n",
        "                dist[w] = dist[v] + 1  # Distancia = dist del padre + 1\n",
        "                q.append(w)            # Encolamos para expandir luego\n",
        "    return dist\n",
        "\n",
        "print(\"BFS desde A:\", bfs_distancias(G, \"A\"))\n",
        "\n",
        "# === Dijkstra: costo mínimo en grafo ponderado (pesos >= 0) O((V+E) log V) ===\n",
        "import heapq\n",
        "\n",
        "W = {                                  # Grafo dirigido y ponderado\n",
        "    \"A\": [(\"B\", 2), (\"C\", 5)],\n",
        "    \"B\": [(\"C\", 1), (\"D\", 3)],\n",
        "    \"C\": [(\"D\", 1)],\n",
        "    \"D\": [(\"E\", 4)],\n",
        "    \"E\": [],\n",
        "}\n",
        "\n",
        "def dijkstra(g, origen):\n",
        "    dist = {origen: 0.0}               # Mejor costo al origen\n",
        "    heap = [(0.0, origen)]             # Heap con pares (costo, nodo)\n",
        "    visit = set()                      # Nodos ya fijados/optimizados\n",
        "    while heap:                        # Mientras existan candidatos\n",
        "        d, v = heapq.heappop(heap)     # Tomamos el de menor costo actual\n",
        "        if v in visit:                 # Si ya lo fijamos, seguimos\n",
        "            continue\n",
        "        visit.add(v)                   # Marcamos como fijado\n",
        "        for w, c in g.get(v, []):      # Recorremos aristas salientes\n",
        "            nd = d + c                 # Costo alternativo por v->w\n",
        "            if nd < dist.get(w, float(\"inf\")):  # Si mejora el mejor conocido\n",
        "                dist[w] = nd           # Actualizamos coste\n",
        "                heapq.heappush(heap, (nd, w))   # Reencolamos para seguir\n",
        "    return dist\n",
        "\n",
        "print(\"Dijkstra desde A:\", dijkstra(W, \"A\"))\n"
      ],
      "metadata": {
        "colab": {
          "base_uri": "https://localhost:8080/"
        },
        "id": "_zK67OkEZFWp",
        "outputId": "c98d6c41-4f01-469a-94b1-9b30ea71df73"
      },
      "execution_count": 6,
      "outputs": [
        {
          "output_type": "stream",
          "name": "stdout",
          "text": [
            "BFS desde A: {'A': 0, 'B': 1, 'C': 1, 'D': 2, 'E': 3}\n",
            "Dijkstra desde A: {'A': 0.0, 'B': 2.0, 'C': 3.0, 'D': 4.0, 'E': 8.0}\n"
          ]
        }
      ]
    },
    {
      "cell_type": "code",
      "source": [
        "# === BENCHMARK RÁPIDO: DEQUE VS LIST COMO COLA ===\n",
        "from collections import deque\n",
        "import time\n",
        "\n",
        "N = 20000                               # Tamaño de la prueba (ajusta según tu PC)\n",
        "\n",
        "dq = deque()                            # Deque\n",
        "t0 = time.perf_counter()\n",
        "for i in range(N): dq.append(i)         # Encolar N veces (O(1) amort.)\n",
        "for i in range(N): dq.popleft()         # Desencolar N veces (O(1) amort.)\n",
        "t_deque = time.perf_counter() - t0\n",
        "\n",
        "lst = []                                # List\n",
        "t0 = time.perf_counter()\n",
        "for i in range(N): lst.append(i)        # Encolar N veces (O(1) amort.)\n",
        "for i in range(N): lst.pop(0)           # Desencolar desde el frente (O(n) cada vez)\n",
        "t_list = time.perf_counter() - t0\n",
        "\n",
        "print(f\"Deque: {t_deque:.4f}s | List (cola): {t_list:.4f}s\")\n"
      ],
      "metadata": {
        "colab": {
          "base_uri": "https://localhost:8080/"
        },
        "id": "oNaBtiiLZGbB",
        "outputId": "6d9c3115-57cf-4763-efe6-87808a572b39"
      },
      "execution_count": 7,
      "outputs": [
        {
          "output_type": "stream",
          "name": "stdout",
          "text": [
            "Deque: 0.0047s | List (cola): 0.0401s\n"
          ]
        }
      ]
    }
  ]
}